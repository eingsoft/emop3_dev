{
  "cells": [
    {
      "cell_type": "markdown",
      "metadata": {
        "id": "aUCbR6Im83je"
      },
      "source": [
        "Use airllm to run llm, much faster? let's have a try.\n",
        "\n",
        "https://github.com/lyogavin/airllm"
      ]
    },
    {
      "cell_type": "markdown",
      "metadata": {
        "id": "epMurosa9JMx"
      },
      "source": [
        "Install dependencies."
      ]
    },
    {
      "cell_type": "code",
      "execution_count": null,
      "metadata": {
        "id": "36RNp3oD8hH7"
      },
      "outputs": [],
      "source": [
        "!pip install airllm"
      ]
    },
    {
      "cell_type": "markdown",
      "metadata": {
        "id": "ZT-UWpbS9C-i"
      },
      "source": [
        "Import libraries."
      ]
    },
    {
      "cell_type": "code",
      "execution_count": null,
      "metadata": {
        "id": "H_yeXCzc9VnQ"
      },
      "outputs": [],
      "source": [
        "from airllm import AutoModel\n",
        "from huggingface_hub import login\n",
        "from google.colab import userdata"
      ]
    },
    {
      "cell_type": "markdown",
      "metadata": {
        "id": "y5ppCg3m9Wry"
      },
      "source": [
        "Load the model from hugging face or local."
      ]
    },
    {
      "cell_type": "code",
      "execution_count": null,
      "metadata": {
        "id": "h_eGatBh9iF9"
      },
      "outputs": [],
      "source": [
        "login(token=userdata.get('HF_TOKEN'), add_to_git_credential=True)\n",
        "\n",
        "\n",
        "model_id = 'meta-llama/Meta-Llama-3.1-8B-Instruct'\n",
        "#model_id = 'Qwen/Qwen2-7B'\n",
        "\n",
        "# could use hugging face model repo id:\n",
        "model = AutoModel.from_pretrained(model_id)\n",
        "\n",
        "# or use model's local path...\n",
        "#model = AutoModel.from_pretrained(\"/home/ubuntu/.cache/huggingface/hub/models--garage-bAInd--Platypus2-70B-instruct/snapshots/b585e74bcaae02e52665d9ac6d23f4d0dbc81a0f\")"
      ]
    },
    {
      "cell_type": "markdown",
      "metadata": {
        "id": "uqjMWb7I_X9J"
      },
      "source": [
        "prompt with the model"
      ]
    },
    {
      "cell_type": "code",
      "execution_count": null,
      "metadata": {
        "id": "YlDHGFjr_cYR"
      },
      "outputs": [],
      "source": [
        "MAX_LENGTH = 128\n",
        "\n",
        "input_text = [\n",
        "        'write a java code, output the difference between current time and 2001/7/1'\n",
        "        ]\n",
        "\n",
        "input_tokens = model.tokenizer(input_text,\n",
        "    return_tensors=\"pt\",\n",
        "    return_attention_mask=False,\n",
        "    truncation=True,\n",
        "    max_length=MAX_LENGTH,\n",
        "    padding=False)\n",
        "\n",
        "generation_output = model.generate(\n",
        "    input_tokens['input_ids'].cuda(),\n",
        "    max_new_tokens=200,\n",
        "    use_cache=True,\n",
        "    return_dict_in_generate=True)\n",
        "\n",
        "output = model.tokenizer.decode(generation_output.sequences[0])\n",
        "\n",
        "print(output)"
      ]
    }
  ],
  "metadata": {
    "colab": {
      "provenance": []
    },
    "kernelspec": {
      "display_name": "Python 3",
      "name": "python3"
    },
    "language_info": {
      "name": "python"
    }
  },
  "nbformat": 4,
  "nbformat_minor": 0
}